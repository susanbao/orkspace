{
 "cells": [
  {
   "cell_type": "code",
   "execution_count": 1,
   "id": "966d015d-041a-49c5-bde9-cd0ef913ffa4",
   "metadata": {
    "tags": []
   },
   "outputs": [],
   "source": [
    "import torch\n",
    "import numpy as np\n",
    "import os\n",
    "\n",
    "from torchvision import transforms, datasets\n",
    "from torch.utils.data import DataLoader, RandomSampler, DistributedSampler, SequentialSampler, TensorDataset, Dataset\n",
    "import json"
   ]
  },
  {
   "cell_type": "code",
   "execution_count": null,
   "id": "d8259975-c761-42e1-8fc5-7db627dd2334",
   "metadata": {},
   "outputs": [],
   "source": [
    "def np_read_with_tensor_output(file):\n",
    "    with open(file, \"rb\") as outfile:\n",
    "        data = np.load(outfile)\n",
    "    return torch.from_numpy(data.astype(np.float32))\n",
    "\n",
    "def read_one_json_results(path):\n",
    "    with open(path, \"r\") as outfile:\n",
    "        data = json.load(outfile)\n",
    "    return data"
   ]
  },
  {
   "cell_type": "code",
   "execution_count": 6,
   "id": "823c84ee-d3d0-47b7-945a-527f5c5eb59c",
   "metadata": {
    "tags": []
   },
   "outputs": [],
   "source": [
    "file = \"./data/5_scale_31/train/feature_pre_data/annotation.npy\"\n",
    "with open(file, \"rb\") as outfile:\n",
    "    data = np.load(outfile)"
   ]
  },
  {
   "cell_type": "code",
   "execution_count": 7,
   "id": "02e76097-184a-4877-8296-cdf04d023acb",
   "metadata": {
    "tags": []
   },
   "outputs": [
    {
     "data": {
      "text/plain": [
       "(4.744050329463789e-06, 10.388030052185059)"
      ]
     },
     "execution_count": 7,
     "metadata": {},
     "output_type": "execute_result"
    }
   ],
   "source": [
    "data.min(), data.max()"
   ]
  },
  {
   "cell_type": "code",
   "execution_count": 8,
   "id": "1ac09d16-c40b-4c98-bc47-1e9bd07bf083",
   "metadata": {
    "tags": []
   },
   "outputs": [
    {
     "data": {
      "text/plain": [
       "(1.977026113308966e-05, 9.686885833740234)"
      ]
     },
     "execution_count": 8,
     "metadata": {},
     "output_type": "execute_result"
    }
   ],
   "source": [
    "file = \"./data/5_scale_31/val/feature_pre_data/annotation.npy\"\n",
    "with open(file, \"rb\") as outfile:\n",
    "    data = np.load(outfile)\n",
    "data.min(), data.max()"
   ]
  },
  {
   "cell_type": "code",
   "execution_count": null,
   "id": "780963a3-d7c6-4c42-9509-12fe4bc300bc",
   "metadata": {},
   "outputs": [],
   "source": []
  }
 ],
 "metadata": {
  "kernelspec": {
   "display_name": "Python 3 (ipykernel)",
   "language": "python",
   "name": "python3"
  },
  "language_info": {
   "codemirror_mode": {
    "name": "ipython",
    "version": 3
   },
   "file_extension": ".py",
   "mimetype": "text/x-python",
   "name": "python",
   "nbconvert_exporter": "python",
   "pygments_lexer": "ipython3",
   "version": "3.7.16"
  }
 },
 "nbformat": 4,
 "nbformat_minor": 5
}
