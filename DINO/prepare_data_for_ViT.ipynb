{
 "cells": [
  {
   "cell_type": "markdown",
   "id": "0d839e79-70ec-420c-b56b-a7c4ab666cbe",
   "metadata": {},
   "source": [
    "## Prepare Data for ViT-based estimation method\n",
    "\n",
    "used code in ViT-pytorch/"
   ]
  },
  {
   "cell_type": "code",
   "execution_count": 1,
   "id": "b5f5ac9d-00a9-4a5d-90ee-0643ecce2f28",
   "metadata": {
    "tags": []
   },
   "outputs": [],
   "source": [
    "import argparse\n",
    "import datetime\n",
    "import json\n",
    "import random\n",
    "import time\n",
    "from pathlib import Path\n",
    "import os, sys\n",
    "import numpy as np\n",
    "import torch\n",
    "\n",
    "from main import build_model_main\n",
    "from util.slconfig import SLConfig\n",
    "from datasets import build_dataset\n",
    "from util.visualizer import COCOVisualizer\n",
    "from util import box_ops\n",
    "import pickle\n",
    "import copy\n",
    "import random\n",
    "from util.utils import slprint, to_device\n",
    "import util.misc as utils\n",
    "from engine import evaluate\n",
    "from torch.utils.data import DataLoader\n",
    "from datasets import build_dataset, get_coco_api_from_dataset"
   ]
  },
  {
   "cell_type": "code",
   "execution_count": 91,
   "id": "bbe0c52a-4052-4e9c-89c2-a5ff17f3172a",
   "metadata": {
    "tags": []
   },
   "outputs": [],
   "source": [
    "split = \"val\"\n",
    "base_path = \"./data/5_scale_31/\"\n",
    "data_path = base_path + split + \"/data/\"\n",
    "annotation_path = base_path + split + \"/box_annotation/\""
   ]
  },
  {
   "cell_type": "code",
   "execution_count": 84,
   "id": "a42ab6b7-bdc8-49e7-b3ff-320351ed6fe6",
   "metadata": {
    "tags": []
   },
   "outputs": [],
   "source": [
    "def read_one_image_results(path):\n",
    "    with open(path, \"r\") as outfile:\n",
    "        data = json.load(outfile)\n",
    "    return data\n",
    "\n",
    "def write_one_results(path, json_data):\n",
    "    with open(path, \"w\") as outfile:\n",
    "        json.dump(json_data, outfile)\n",
    "        \n",
    "def get_numpy_data(data_path, annotation_path, img_nums):\n",
    "    X = None\n",
    "    Y = None\n",
    "    for img_idx in range(img_nums):\n",
    "        results = read_one_image_results(data_path + str(img_idx) + \".json\")\n",
    "        pred_logits = np.array(results['input']['pred_logits'])\n",
    "        pred_boxes = np.array(results['input']['pred_boxes'])\n",
    "        pred_results = np.concatenate((pred_boxes, pred_logits), axis=2)\n",
    "        annotation_data = read_one_image_results(annotation_path + str(img_idx) + \".json\")\n",
    "        selected_index = annotation_data['selected_index']\n",
    "        out_results = pred_results[:,selected_index]\n",
    "        loss = annotation_data['loss']\n",
    "        pred_logits_max = np.max(pred_logits, axis=2).squeeze()\n",
    "        sort_indexs = np.argsort(-pred_logits_max)\n",
    "        topk_indexs = sort_indexs[:196]\n",
    "        pred_results = pred_results[:,topk_indexs]\n",
    "        arrSortedIndex  = np.lexsort((pred_results[:,:,0], pred_results[:,:,1])).squeeze()\n",
    "        pred_results = pred_results[:,arrSortedIndex]\n",
    "        one_X = None\n",
    "        for i in range(out_results.shape[1]):\n",
    "            temp = np.append(out_results[:,i], pred_results)\n",
    "            temp = temp.reshape((1,pred_results.shape[1]+1, pred_results.shape[2]))\n",
    "            if one_X is None:\n",
    "                one_X = temp\n",
    "            else:\n",
    "                one_X = np.concatenate((one_X, temp), axis=0)\n",
    "        if X is None:\n",
    "            X = one_X\n",
    "        else:\n",
    "            X = np.concatenate((X, one_X), axis=0)\n",
    "        if Y is None:\n",
    "            Y = loss\n",
    "        else:\n",
    "            Y = np.concatenate((Y, loss))\n",
    "        if img_idx % 100 == 0:\n",
    "            print(f\"{img_idx} finished\")\n",
    "    return X, Y"
   ]
  },
  {
   "cell_type": "code",
   "execution_count": 85,
   "id": "f5b3a175-573b-42a0-abaa-77c232f26d56",
   "metadata": {
    "tags": []
   },
   "outputs": [],
   "source": [
    "train_data_path = \"./data/5_scale_31/train/data/\"\n",
    "test_data_path = \"./data/5_scale_31/val/data/\"\n",
    "train_annotation_path = \"./data/5_scale_31/train/box_annotation/\"\n",
    "test_annotation_path = \"./data/5_scale_31/val/box_annotation/\""
   ]
  },
  {
   "cell_type": "code",
   "execution_count": null,
   "id": "10b9c1a4-b25c-4551-8627-f612fe254758",
   "metadata": {
    "tags": []
   },
   "outputs": [
    {
     "name": "stdout",
     "output_type": "stream",
     "text": [
      "0 finished\n",
      "100 finished\n",
      "200 finished\n",
      "300 finished\n",
      "400 finished\n",
      "500 finished\n",
      "600 finished\n",
      "700 finished\n",
      "800 finished\n",
      "900 finished\n",
      "1000 finished\n",
      "1100 finished\n",
      "1200 finished\n",
      "1300 finished\n",
      "1400 finished\n",
      "1500 finished\n",
      "1600 finished\n",
      "1700 finished\n",
      "1800 finished\n",
      "1900 finished\n",
      "2000 finished\n",
      "2100 finished\n",
      "2200 finished\n",
      "2300 finished\n",
      "2400 finished\n",
      "2500 finished\n",
      "2600 finished\n",
      "2700 finished\n",
      "2800 finished\n",
      "2900 finished\n",
      "3000 finished\n",
      "3100 finished\n",
      "3200 finished\n",
      "3300 finished\n",
      "3400 finished\n",
      "3500 finished\n",
      "3600 finished\n",
      "3700 finished\n",
      "3800 finished\n",
      "3900 finished\n"
     ]
    }
   ],
   "source": [
    "test_X, test_Y = get_numpy_data(test_data_path, test_annotation_path, 5000)"
   ]
  },
  {
   "cell_type": "code",
   "execution_count": 92,
   "id": "b1317593-0f8a-4091-8a83-72e440a6fe02",
   "metadata": {
    "tags": []
   },
   "outputs": [],
   "source": [
    "split = \"val\"\n",
    "store_preprocess_inputs_path = base_path + split + f\"/pre_data/{split}_box_level_ViT_inputs.npy\"\n",
    "with open(store_preprocess_inputs_path, \"wb\") as outfile:\n",
    "    np.save(outfile, test_X)\n",
    "store_preprocess_annotations_path = base_path + split + f\"/pre_data/{split}_box_level_ViT_annotations.npy\"\n",
    "with open(store_preprocess_annotations_path, \"wb\") as outfile:\n",
    "    np.save(outfile, test_Y)"
   ]
  },
  {
   "cell_type": "code",
   "execution_count": 94,
   "id": "3306b35a-48ea-4bc0-978e-c983448164a2",
   "metadata": {
    "tags": []
   },
   "outputs": [
    {
     "data": {
      "text/plain": [
       "((49129, 197, 95), (49129,))"
      ]
     },
     "execution_count": 94,
     "metadata": {},
     "output_type": "execute_result"
    }
   ],
   "source": [
    "test_X.shape, test_Y.shape"
   ]
  },
  {
   "cell_type": "code",
   "execution_count": null,
   "id": "fd8d4e4a-06b8-42d0-a936-852bbd1c6bd7",
   "metadata": {},
   "outputs": [
    {
     "name": "stdout",
     "output_type": "stream",
     "text": [
      "0 finished\n",
      "100 finished\n",
      "200 finished\n",
      "300 finished\n",
      "400 finished\n",
      "500 finished\n",
      "600 finished\n",
      "700 finished\n",
      "800 finished\n",
      "900 finished\n",
      "1000 finished\n",
      "1100 finished\n",
      "1200 finished\n",
      "1300 finished\n",
      "1400 finished\n",
      "1500 finished\n",
      "1600 finished\n",
      "1700 finished\n",
      "1800 finished\n",
      "1900 finished\n",
      "2000 finished\n",
      "2100 finished\n",
      "2200 finished\n",
      "2300 finished\n",
      "2400 finished\n",
      "2500 finished\n",
      "2600 finished\n",
      "2700 finished\n",
      "2800 finished\n",
      "2900 finished\n",
      "3000 finished\n",
      "3100 finished\n",
      "3200 finished\n",
      "3300 finished\n",
      "3400 finished\n",
      "3500 finished\n",
      "3600 finished\n",
      "3700 finished\n",
      "3800 finished\n",
      "3900 finished\n",
      "4000 finished\n",
      "4100 finished\n",
      "4200 finished\n",
      "4300 finished\n",
      "4400 finished\n",
      "4500 finished\n",
      "4600 finished\n",
      "4700 finished\n",
      "4800 finished\n",
      "4900 finished\n",
      "5000 finished\n",
      "5100 finished\n",
      "5200 finished\n",
      "5300 finished\n",
      "5400 finished\n",
      "5500 finished\n",
      "5600 finished\n",
      "5700 finished\n",
      "5800 finished\n",
      "5900 finished\n",
      "6000 finished\n",
      "6100 finished\n",
      "6200 finished\n",
      "6300 finished\n",
      "6400 finished\n",
      "6500 finished\n",
      "6600 finished\n",
      "6700 finished\n",
      "6800 finished\n",
      "6900 finished\n",
      "7000 finished\n",
      "7100 finished\n",
      "7200 finished\n",
      "7300 finished\n",
      "7400 finished\n",
      "7500 finished\n",
      "7600 finished\n",
      "7700 finished\n",
      "7800 finished\n",
      "7900 finished\n",
      "8000 finished\n",
      "8100 finished\n",
      "8200 finished\n",
      "8300 finished\n",
      "8400 finished\n",
      "8500 finished\n",
      "8600 finished\n",
      "8700 finished\n",
      "8800 finished\n",
      "8900 finished\n",
      "9000 finished\n",
      "9100 finished\n",
      "9200 finished\n",
      "9300 finished\n",
      "9400 finished\n",
      "9500 finished\n",
      "9600 finished\n",
      "9700 finished\n",
      "9800 finished\n",
      "9900 finished\n",
      "10000 finished\n",
      "10100 finished\n",
      "10200 finished\n",
      "10300 finished\n",
      "10400 finished\n",
      "10500 finished\n",
      "10600 finished\n",
      "10800 finished\n",
      "10900 finished\n",
      "11000 finished\n",
      "11100 finished\n"
     ]
    }
   ],
   "source": [
    "train_X, train_Y = get_numpy_data(train_data_path, train_annotation_path, 50000)"
   ]
  },
  {
   "cell_type": "code",
   "execution_count": null,
   "id": "1f905beb-2b4d-411e-9d1b-8a1fc2746dde",
   "metadata": {},
   "outputs": [],
   "source": [
    "split = \"train\"\n",
    "store_preprocess_inputs_path = base_path + split + f\"/pre_data/{split}_box_level_ViT_inputs.npy\"\n",
    "with open(store_preprocess_inputs_path, \"wb\") as outfile:\n",
    "    np.save(outfile, train_X)\n",
    "store_preprocess_annotations_path = base_path + split + f\"/pre_data/{split}_box_level_ViT_annotations.npy\"\n",
    "with open(store_preprocess_annotations_path, \"wb\") as outfile:\n",
    "    np.save(outfile, train_Y)"
   ]
  },
  {
   "cell_type": "code",
   "execution_count": null,
   "id": "4a3acb4f-ac59-4dbf-aca8-f08b76834fc9",
   "metadata": {},
   "outputs": [],
   "source": []
  }
 ],
 "metadata": {
  "kernelspec": {
   "display_name": "Python 3 (ipykernel)",
   "language": "python",
   "name": "python3"
  },
  "language_info": {
   "codemirror_mode": {
    "name": "ipython",
    "version": 3
   },
   "file_extension": ".py",
   "mimetype": "text/x-python",
   "name": "python",
   "nbconvert_exporter": "python",
   "pygments_lexer": "ipython3",
   "version": "3.7.13"
  }
 },
 "nbformat": 4,
 "nbformat_minor": 5
}
