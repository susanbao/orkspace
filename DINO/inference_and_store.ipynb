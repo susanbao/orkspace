{
 "cells": [
  {
   "cell_type": "markdown",
   "id": "580b9c20-f104-4db2-ae5b-58295a03b41d",
   "metadata": {},
   "source": [
    "# Inference on model and store the output for further use\n",
    "Use for deep ensemble method, run model on test data set and store the output into json file\n",
    "The original DINO code did not support save_results function"
   ]
  },
  {
   "cell_type": "code",
   "execution_count": 1,
   "id": "2a55c58e-c5bc-4a82-b782-d90c67adba85",
   "metadata": {
    "tags": []
   },
   "outputs": [],
   "source": [
    "import os, sys\n",
    "import torch, json\n",
    "import numpy as np\n",
    "\n",
    "from main import build_model_main\n",
    "from util.slconfig import SLConfig\n",
    "from datasets import build_dataset\n",
    "from util.visualizer import COCOVisualizer\n",
    "from util import box_ops\n",
    "import pickle"
   ]
  },
  {
   "cell_type": "code",
   "execution_count": 11,
   "id": "0144a03b-97d2-4f55-933c-14f495c42a4a",
   "metadata": {
    "tags": []
   },
   "outputs": [],
   "source": [
    "scale_config = \"4scale\"\n",
    "checkpoint = \"0023\"\n",
    "model_config_path = \"config/DINO/DINO_\" + scale_config + \".py\" # change the path of the model config file\n",
    "model_checkpoint_path = \"ckpts/checkpoint\" + checkpoint + \"_\" + scale_config + \".pth\" # change the path of the model checkpoint\n",
    "results_path = \"./results/deep_ensemble/\" + \"DINO_\" + checkpoint + \"_\" + scale_config + \".pkl\"\n",
    "thershold = 0.3 # set a thershold\n",
    "args = SLConfig.fromfile(model_config_path) \n",
    "args.device = 'cuda' "
   ]
  },
  {
   "cell_type": "markdown",
   "id": "89248216-f9db-4866-ab15-35a3a78018b3",
   "metadata": {},
   "source": [
    "## Load data set"
   ]
  },
  {
   "cell_type": "code",
   "execution_count": 12,
   "id": "09f375f4-f445-432c-9cf3-4349770bc834",
   "metadata": {
    "tags": []
   },
   "outputs": [
    {
     "name": "stdout",
     "output_type": "stream",
     "text": [
      "data_aug_params: {\n",
      "  \"scales\": [\n",
      "    480,\n",
      "    512,\n",
      "    544,\n",
      "    576,\n",
      "    608,\n",
      "    640,\n",
      "    672,\n",
      "    704,\n",
      "    736,\n",
      "    768,\n",
      "    800\n",
      "  ],\n",
      "  \"max_size\": 1333,\n",
      "  \"scales2_resize\": [\n",
      "    400,\n",
      "    500,\n",
      "    600\n",
      "  ],\n",
      "  \"scales2_crop\": [\n",
      "    384,\n",
      "    600\n",
      "  ]\n",
      "}\n",
      "loading annotations into memory...\n",
      "Done (t=0.47s)\n",
      "creating index...\n",
      "index created!\n"
     ]
    }
   ],
   "source": [
    "args.dataset_file = 'coco'\n",
    "args.coco_path = \"../coco/\" # the path of coco\n",
    "args.fix_size = False\n",
    "\n",
    "dataset_val = build_dataset(image_set='val', args=args)"
   ]
  },
  {
   "cell_type": "markdown",
   "id": "4c1c6707-8a70-4891-b024-3ee2fa930d3a",
   "metadata": {
    "tags": []
   },
   "source": [
    "## Load model"
   ]
  },
  {
   "cell_type": "code",
   "execution_count": 13,
   "id": "b3115d0e-c2cf-46f5-8ccf-f2596cfe9d3e",
   "metadata": {
    "tags": []
   },
   "outputs": [],
   "source": [
    "model, criterion, postprocessors = build_model_main(args)\n",
    "checkpoint = torch.load(model_checkpoint_path, map_location='cpu')\n",
    "model.load_state_dict(checkpoint['model'])\n",
    "_ = model.eval()"
   ]
  },
  {
   "cell_type": "code",
   "execution_count": null,
   "id": "c25bd19f-3f00-424f-8704-6ab9d98f0686",
   "metadata": {
    "tags": []
   },
   "outputs": [
    {
     "name": "stdout",
     "output_type": "stream",
     "text": [
      "Complete test data 0\n",
      "Complete test data 100\n",
      "Complete test data 200\n",
      "Complete test data 300\n",
      "Complete test data 400\n",
      "Complete test data 500\n",
      "Complete test data 600\n",
      "Complete test data 700\n"
     ]
    }
   ],
   "source": [
    "output_dic = {'pred_logits', 'pred_boxes'}\n",
    "results = {}\n",
    "with torch.no_grad():\n",
    "    for idx in range(len(dataset_val)):\n",
    "        test_result = {}\n",
    "        output = model.cuda()(dataset_val[idx][0][None].cuda())\n",
    "        for k in output_dic:\n",
    "            test_result[k] = output[k].cpu().numpy()\n",
    "        output = postprocessors['bbox'](output, torch.Tensor([[1.0, 1.0]]).cuda())[0]\n",
    "        boxes = box_ops.box_xyxy_to_cxcywh(output['boxes'])\n",
    "        output['scores'] = output['scores'].cpu().numpy()\n",
    "        output['labels'] = output['labels'].cpu().numpy()\n",
    "        output['boxes'] = boxes.cpu().numpy()\n",
    "        results[idx] = test_result\n",
    "        if idx % 100 == 0:\n",
    "            print(f\"Complete test data {idx}\")\n",
    "\n",
    "with open(results_path, \"wb\") as outfile:\n",
    "     pickle.dump(results, outfile)\n",
    "print(f\"Complete save results into {results_path}\")"
   ]
  },
  {
   "cell_type": "code",
   "execution_count": 36,
   "id": "20a1bc28-97d3-4024-907c-0d4f2f369803",
   "metadata": {
    "tags": []
   },
   "outputs": [],
   "source": [
    "import pickle\n",
    "results_path = \"./results/deep_ensemble/\" + \"DINO_\" + checkpoint + \"_\" + scale_config + \".pkl\"\n",
    "with open(results_path, \"wb\") as outfile:\n",
    "     pickle.dump(results, outfile)"
   ]
  },
  {
   "cell_type": "code",
   "execution_count": 43,
   "id": "3ce17d81-7e0d-4bda-a90f-b516c24162c7",
   "metadata": {
    "tags": []
   },
   "outputs": [
    {
     "data": {
      "text/plain": [
       "{'boxes': tensor([[0.3896, 0.4161, 0.0386, 0.1631],\n",
       "         [0.1276, 0.5052, 0.2333, 0.2227],\n",
       "         [0.9342, 0.5835, 0.1271, 0.1848],\n",
       "         [0.6047, 0.6325, 0.0875, 0.2414],\n",
       "         [0.5025, 0.6273, 0.0966, 0.2312],\n",
       "         [0.6692, 0.6190, 0.0471, 0.1910],\n",
       "         [0.5128, 0.5283, 0.0337, 0.0272],\n",
       "         [0.6864, 0.5320, 0.0829, 0.3240],\n",
       "         [0.6125, 0.4462, 0.0236, 0.0839],\n",
       "         [0.8119, 0.5017, 0.0230, 0.0375],\n",
       "         [0.7863, 0.5364, 0.0317, 0.2542],\n",
       "         [0.9562, 0.7717, 0.0224, 0.1073],\n",
       "         [0.9682, 0.7781, 0.0201, 0.1090],\n",
       "         [0.7106, 0.3100, 0.0218, 0.0514],\n",
       "         [0.8866, 0.8316, 0.0573, 0.2105],\n",
       "         [0.5569, 0.5167, 0.0178, 0.0529],\n",
       "         [0.6517, 0.5288, 0.0150, 0.0294],\n",
       "         [0.3880, 0.4784, 0.0222, 0.0414],\n",
       "         [0.5338, 0.4879, 0.0152, 0.0393],\n",
       "         [0.6000, 0.6471, 0.1962, 0.2088]]),\n",
       " 'labels': tensor([64, 72, 72, 62, 62, 62, 62,  1,  1, 78, 82, 84, 84, 85, 86, 86, 62, 86,\n",
       "         86, 67]),\n",
       " 'image_id': tensor([139]),\n",
       " 'area': tensor([ 1874.1207, 46674.9805, 20556.2637,  7912.7275,  6462.3667,  4543.8306,\n",
       "           740.5751, 10265.9785,  1533.4774,   767.2557,  7365.1987,  1193.2782,\n",
       "          1136.8395,   795.2544,  7652.9175,   627.9352,   320.6446,   668.0214,\n",
       "           423.7049,  8325.5576]),\n",
       " 'iscrowd': tensor([0, 0, 0, 0, 0, 0, 0, 0, 0, 0, 0, 0, 0, 0, 0, 0, 0, 0, 0, 0]),\n",
       " 'orig_size': tensor([426, 640]),\n",
       " 'size': tensor([ 800, 1201])}"
      ]
     },
     "execution_count": 43,
     "metadata": {},
     "output_type": "execute_result"
    }
   ],
   "source": [
    "dataset_val[0][1]"
   ]
  },
  {
   "cell_type": "code",
   "execution_count": 29,
   "id": "41da7b6a-517a-487f-8f3a-67a424637b9b",
   "metadata": {
    "tags": []
   },
   "outputs": [
    {
     "ename": "AttributeError",
     "evalue": "'NoneType' object has no attribute 'cpu'",
     "output_type": "error",
     "traceback": [
      "\u001b[0;31m---------------------------------------------------------------------------\u001b[0m",
      "\u001b[0;31mAttributeError\u001b[0m                            Traceback (most recent call last)",
      "\u001b[0;32m/tmp/ipykernel_15835/2100651469.py\u001b[0m in \u001b[0;36m<module>\u001b[0;34m\u001b[0m\n\u001b[1;32m      1\u001b[0m \u001b[0;32mwith\u001b[0m \u001b[0mtorch\u001b[0m\u001b[0;34m.\u001b[0m\u001b[0mno_grad\u001b[0m\u001b[0;34m(\u001b[0m\u001b[0;34m)\u001b[0m\u001b[0;34m:\u001b[0m\u001b[0;34m\u001b[0m\u001b[0;34m\u001b[0m\u001b[0m\n\u001b[1;32m      2\u001b[0m     \u001b[0moutput\u001b[0m \u001b[0;34m=\u001b[0m \u001b[0mmodel\u001b[0m\u001b[0;34m.\u001b[0m\u001b[0mcuda\u001b[0m\u001b[0;34m(\u001b[0m\u001b[0;34m)\u001b[0m\u001b[0;34m(\u001b[0m\u001b[0mdataset_val\u001b[0m\u001b[0;34m[\u001b[0m\u001b[0;36m0\u001b[0m\u001b[0;34m]\u001b[0m\u001b[0;34m[\u001b[0m\u001b[0;36m0\u001b[0m\u001b[0;34m]\u001b[0m\u001b[0;34m[\u001b[0m\u001b[0;32mNone\u001b[0m\u001b[0;34m]\u001b[0m\u001b[0;34m.\u001b[0m\u001b[0mcuda\u001b[0m\u001b[0;34m(\u001b[0m\u001b[0;34m)\u001b[0m\u001b[0;34m)\u001b[0m\u001b[0;34m\u001b[0m\u001b[0;34m\u001b[0m\u001b[0m\n\u001b[0;32m----> 3\u001b[0;31m     \u001b[0mt\u001b[0m \u001b[0;34m=\u001b[0m \u001b[0moutput\u001b[0m\u001b[0;34m[\u001b[0m\u001b[0;34m'dn_meta'\u001b[0m\u001b[0;34m]\u001b[0m\u001b[0;34m.\u001b[0m\u001b[0mcpu\u001b[0m\u001b[0;34m(\u001b[0m\u001b[0;34m)\u001b[0m\u001b[0;34m.\u001b[0m\u001b[0mnumpy\u001b[0m\u001b[0;34m(\u001b[0m\u001b[0;34m)\u001b[0m\u001b[0;34m\u001b[0m\u001b[0;34m\u001b[0m\u001b[0m\n\u001b[0m",
      "\u001b[0;31mAttributeError\u001b[0m: 'NoneType' object has no attribute 'cpu'"
     ]
    }
   ],
   "source": [
    "with torch.no_grad():\n",
    "    output = model.cuda()(dataset_val[0][0][None].cuda())\n",
    "    t = output['dn_meta'].cpu().numpy()"
   ]
  },
  {
   "cell_type": "code",
   "execution_count": 23,
   "id": "7fe2e9db-2db9-4638-9bcc-d80f64ceb804",
   "metadata": {
    "tags": []
   },
   "outputs": [
    {
     "data": {
      "text/plain": [
       "dict_keys(['pred_logits', 'pred_boxes', 'aux_outputs', 'interm_outputs', 'interm_outputs_for_matching_pre', 'dn_meta'])"
      ]
     },
     "execution_count": 23,
     "metadata": {},
     "output_type": "execute_result"
    }
   ],
   "source": [
    "output.keys()"
   ]
  },
  {
   "cell_type": "code",
   "execution_count": 51,
   "id": "776d3804-5bed-4abb-b162-905d47519298",
   "metadata": {
    "tags": []
   },
   "outputs": [],
   "source": [
    "output = model.cuda()(dataset_val[0][0][None].cuda())\n",
    "output = postprocessors['bbox'](output, torch.Tensor([[1.0, 1.0]]).cuda())[0]"
   ]
  },
  {
   "cell_type": "code",
   "execution_count": 52,
   "id": "094a118a-bedf-4d7a-9100-71495b88a5d4",
   "metadata": {
    "tags": []
   },
   "outputs": [],
   "source": [
    "thershold = 0.3 # set a thershold\n",
    "\n",
    "scores = output['scores']\n",
    "labels = output['labels']\n",
    "boxes = box_ops.box_xyxy_to_cxcywh(output['boxes'])\n",
    "select_mask = scores > thershold"
   ]
  },
  {
   "cell_type": "code",
   "execution_count": 17,
   "id": "4660a839-e81b-43c6-8db8-f772fd64aebe",
   "metadata": {
    "tags": []
   },
   "outputs": [
    {
     "data": {
      "text/plain": [
       "torch.Size([24, 4])"
      ]
     },
     "execution_count": 17,
     "metadata": {},
     "output_type": "execute_result"
    }
   ],
   "source": [
    "boxes[select_mask].shape"
   ]
  },
  {
   "cell_type": "code",
   "execution_count": 22,
   "id": "f6daa3c7-649d-4344-adc3-a7cbe780e0fe",
   "metadata": {
    "tags": []
   },
   "outputs": [
    {
     "data": {
      "text/plain": [
       "[{'scores': tensor([0.9188, 0.8691, 0.8570, 0.8514, 0.7830, 0.6345, 0.5892, 0.5829, 0.5591,\n",
       "          0.5439, 0.5189, 0.5174, 0.5034, 0.4608, 0.4550, 0.4419, 0.4209, 0.4034,\n",
       "          0.3904, 0.3604, 0.3416, 0.3370, 0.3052, 0.3032, 0.2983, 0.2700, 0.2568,\n",
       "          0.2511, 0.2478, 0.2474, 0.2445, 0.2378, 0.2260, 0.2073, 0.2060, 0.1955,\n",
       "          0.1940, 0.1895, 0.1891, 0.1883, 0.1881, 0.1819, 0.1745, 0.1728, 0.1713,\n",
       "          0.1701, 0.1700, 0.1675, 0.1666, 0.1662, 0.1647, 0.1643, 0.1599, 0.1553,\n",
       "          0.1548, 0.1504, 0.1496, 0.1484, 0.1462, 0.1458, 0.1445, 0.1438, 0.1429,\n",
       "          0.1421, 0.1415, 0.1376, 0.1365, 0.1347, 0.1343, 0.1339, 0.1319, 0.1316,\n",
       "          0.1311, 0.1311, 0.1296, 0.1293, 0.1273, 0.1271, 0.1270, 0.1255, 0.1245,\n",
       "          0.1219, 0.1218, 0.1218, 0.1210, 0.1194, 0.1191, 0.1188, 0.1188, 0.1167,\n",
       "          0.1158, 0.1154, 0.1140, 0.1137, 0.1137, 0.1135, 0.1105, 0.1098, 0.1094,\n",
       "          0.1091, 0.1075, 0.1075, 0.1070, 0.1066, 0.1058, 0.1051, 0.1050, 0.1036,\n",
       "          0.1030, 0.1027, 0.1011, 0.1000, 0.0993, 0.0986, 0.0971, 0.0968, 0.0959,\n",
       "          0.0955, 0.0948, 0.0944, 0.0942, 0.0940, 0.0932, 0.0932, 0.0930, 0.0921,\n",
       "          0.0913, 0.0900, 0.0897, 0.0894, 0.0890, 0.0888, 0.0886, 0.0884, 0.0882,\n",
       "          0.0867, 0.0864, 0.0862, 0.0856, 0.0849, 0.0847, 0.0841, 0.0841, 0.0837,\n",
       "          0.0836, 0.0828, 0.0828, 0.0825, 0.0822, 0.0820, 0.0817, 0.0816, 0.0815,\n",
       "          0.0812, 0.0809, 0.0803, 0.0802, 0.0796, 0.0796, 0.0786, 0.0783, 0.0783,\n",
       "          0.0782, 0.0774, 0.0772, 0.0764, 0.0753, 0.0749, 0.0749, 0.0748, 0.0732,\n",
       "          0.0731, 0.0726, 0.0725, 0.0724, 0.0724, 0.0724, 0.0722, 0.0721, 0.0721,\n",
       "          0.0719, 0.0712, 0.0712, 0.0711, 0.0711, 0.0705, 0.0705, 0.0703, 0.0701,\n",
       "          0.0698, 0.0697, 0.0696, 0.0687, 0.0686, 0.0682, 0.0682, 0.0677, 0.0676,\n",
       "          0.0674, 0.0669, 0.0666, 0.0665, 0.0663, 0.0657, 0.0655, 0.0649, 0.0648,\n",
       "          0.0646, 0.0645, 0.0643, 0.0643, 0.0641, 0.0640, 0.0639, 0.0638, 0.0637,\n",
       "          0.0636, 0.0635, 0.0627, 0.0627, 0.0622, 0.0620, 0.0612, 0.0611, 0.0610,\n",
       "          0.0609, 0.0607, 0.0606, 0.0606, 0.0606, 0.0600, 0.0600, 0.0598, 0.0598,\n",
       "          0.0597, 0.0587, 0.0586, 0.0585, 0.0584, 0.0582, 0.0581, 0.0580, 0.0579,\n",
       "          0.0576, 0.0576, 0.0575, 0.0570, 0.0569, 0.0569, 0.0568, 0.0566, 0.0565,\n",
       "          0.0565, 0.0562, 0.0558, 0.0558, 0.0557, 0.0557, 0.0553, 0.0553, 0.0550,\n",
       "          0.0550, 0.0550, 0.0548, 0.0544, 0.0543, 0.0542, 0.0541, 0.0540, 0.0540,\n",
       "          0.0538, 0.0535, 0.0535, 0.0534, 0.0534, 0.0532, 0.0530, 0.0530, 0.0528,\n",
       "          0.0527, 0.0526, 0.0522, 0.0522, 0.0521, 0.0521, 0.0519, 0.0516, 0.0515,\n",
       "          0.0512, 0.0510, 0.0505, 0.0502, 0.0502, 0.0501, 0.0496, 0.0496, 0.0496,\n",
       "          0.0495, 0.0495, 0.0494], device='cuda:0'),\n",
       "  'labels': tensor([62, 62, 72, 62,  1, 86, 85, 64, 86, 82, 86, 78, 86,  1, 86, 82, 67, 44,\n",
       "          86, 64, 67, 86, 86, 86, 67, 86, 67, 62, 67, 62, 62, 64, 44, 62, 62, 62,\n",
       "          67, 64, 62, 44, 62,  1, 62, 62, 64, 62, 64, 32, 62, 64, 64, 62, 62, 62,\n",
       "          62, 62, 44, 64, 62, 67, 67, 62, 81, 86, 72, 86, 62, 62, 86, 67, 64, 62,\n",
       "          44, 32, 86, 46, 67, 86, 67, 82, 62, 46, 64, 62, 64,  1, 64, 64, 67, 62,\n",
       "          86, 67, 86, 47, 46, 86, 67, 62, 79, 82, 86, 62,  1, 64, 62, 62, 44, 62,\n",
       "          84, 86, 79, 62, 82, 64, 86, 64, 86, 86, 47, 84, 86, 62, 62, 62, 86, 18,\n",
       "          82,  1, 86, 47,  1, 86, 72, 64, 62, 84, 86, 62, 32, 62, 67, 79, 84, 62,\n",
       "          67, 32, 62, 82, 67, 79, 72, 44, 72, 86, 86, 86, 67, 64, 67, 67, 67, 67,\n",
       "          86, 67, 67, 47, 62, 62, 84, 62, 67, 47, 33, 47, 47, 62, 62, 44, 86, 64,\n",
       "          62, 64, 72, 86, 47, 67, 67, 82, 82, 84, 44, 63, 67, 67, 79, 86, 72, 86,\n",
       "          44, 62, 86, 47, 44, 62, 79, 62, 79, 86, 62, 86, 62, 79, 62, 67, 64, 67,\n",
       "          86, 62, 44, 44, 62, 62, 64, 84,  1, 79, 67, 79, 32, 79, 79, 46, 62, 46,\n",
       "           1, 84, 51, 31, 79, 44, 84, 64, 62, 62, 62, 64, 67, 62, 27, 82, 78, 86,\n",
       "          67, 44, 67, 62, 81, 84, 62, 64, 31, 67, 67, 67, 79, 62, 46, 31,  1, 67,\n",
       "           1, 62, 78, 79, 82, 64, 64, 31, 82, 67, 86, 62, 86, 67,  1, 32, 44, 31,\n",
       "          79, 31, 44, 85, 62, 84, 67, 62, 62, 64, 51, 44], device='cuda:0'),\n",
       "  'boxes': tensor([[0.4533, 0.5113, 0.5503, 0.7457],\n",
       "          [0.5643, 0.5149, 0.6493, 0.7488],\n",
       "          [0.0094, 0.3919, 0.2414, 0.6165],\n",
       "          ...,\n",
       "          [0.5650, 0.5027, 0.5842, 0.5421],\n",
       "          [0.7266, 0.4451, 0.7428, 0.4599],\n",
       "          [0.5492, 0.4853, 0.5638, 0.5417]], device='cuda:0')}]"
      ]
     },
     "execution_count": 22,
     "metadata": {},
     "output_type": "execute_result"
    }
   ],
   "source": [
    "output"
   ]
  },
  {
   "cell_type": "code",
   "execution_count": null,
   "id": "a297d526-ffc4-48a4-bf7c-bef6411581e7",
   "metadata": {},
   "outputs": [],
   "source": []
  }
 ],
 "metadata": {
  "kernelspec": {
   "display_name": "Python 3 (ipykernel)",
   "language": "python",
   "name": "python3"
  },
  "language_info": {
   "codemirror_mode": {
    "name": "ipython",
    "version": 3
   },
   "file_extension": ".py",
   "mimetype": "text/x-python",
   "name": "python",
   "nbconvert_exporter": "python",
   "pygments_lexer": "ipython3",
   "version": "3.7.13"
  }
 },
 "nbformat": 4,
 "nbformat_minor": 5
}
