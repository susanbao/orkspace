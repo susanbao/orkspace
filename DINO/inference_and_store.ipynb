{
 "cells": [
  {
   "cell_type": "markdown",
   "id": "580b9c20-f104-4db2-ae5b-58295a03b41d",
   "metadata": {},
   "source": [
    "# Inference on model and store the output for further use\n",
    "Use for deep ensemble method, run model on test data set and store the output into json file\n",
    "The original DINO code did not support save_results function"
   ]
  },
  {
   "cell_type": "code",
   "execution_count": 11,
   "id": "2a55c58e-c5bc-4a82-b782-d90c67adba85",
   "metadata": {
    "tags": []
   },
   "outputs": [],
   "source": [
    "import os, sys\n",
    "import torch, json\n",
    "import numpy as np\n",
    "\n",
    "from main import build_model_main\n",
    "from util.slconfig import SLConfig\n",
    "from datasets import build_dataset\n",
    "from util.visualizer import COCOVisualizer\n",
    "from util import box_ops\n",
    "import pickle"
   ]
  },
  {
   "cell_type": "code",
   "execution_count": 24,
   "id": "0144a03b-97d2-4f55-933c-14f495c42a4a",
   "metadata": {
    "tags": []
   },
   "outputs": [],
   "source": [
    "scale_config = \"5scale\"\n",
    "checkpoint = \"0031\"\n",
    "model_config_path = \"config/DINO/DINO_\" + scale_config + \".py\" # change the path of the model config file\n",
    "model_checkpoint_path = \"ckpts/checkpoint\" + checkpoint + \"_\" + scale_config + \".pth\" # change the path of the model checkpoint\n",
    "results_path = \"./results/deep_ensemble/\" + \"DINO_\" + checkpoint + \"_\" + scale_config + \".pkl\"\n",
    "thershold = 0.3 # set a thershold\n",
    "args = SLConfig.fromfile(model_config_path) \n",
    "args.device = 'cuda' "
   ]
  },
  {
   "cell_type": "markdown",
   "id": "89248216-f9db-4866-ab15-35a3a78018b3",
   "metadata": {},
   "source": [
    "## Load data set"
   ]
  },
  {
   "cell_type": "code",
   "execution_count": 25,
   "id": "09f375f4-f445-432c-9cf3-4349770bc834",
   "metadata": {
    "tags": []
   },
   "outputs": [
    {
     "name": "stdout",
     "output_type": "stream",
     "text": [
      "data_aug_params: {\n",
      "  \"scales\": [\n",
      "    480,\n",
      "    512,\n",
      "    544,\n",
      "    576,\n",
      "    608,\n",
      "    640,\n",
      "    672,\n",
      "    704,\n",
      "    736,\n",
      "    768,\n",
      "    800\n",
      "  ],\n",
      "  \"max_size\": 1333,\n",
      "  \"scales2_resize\": [\n",
      "    400,\n",
      "    500,\n",
      "    600\n",
      "  ],\n",
      "  \"scales2_crop\": [\n",
      "    384,\n",
      "    600\n",
      "  ]\n",
      "}\n",
      "loading annotations into memory...\n",
      "Done (t=0.47s)\n",
      "creating index...\n",
      "index created!\n"
     ]
    }
   ],
   "source": [
    "args.dataset_file = 'coco'\n",
    "args.coco_path = \"../coco/\" # the path of coco\n",
    "args.fix_size = False\n",
    "\n",
    "dataset_val = build_dataset(image_set='val', args=args)"
   ]
  },
  {
   "cell_type": "markdown",
   "id": "4c1c6707-8a70-4891-b024-3ee2fa930d3a",
   "metadata": {
    "tags": []
   },
   "source": [
    "## Load model"
   ]
  },
  {
   "cell_type": "code",
   "execution_count": 26,
   "id": "b3115d0e-c2cf-46f5-8ccf-f2596cfe9d3e",
   "metadata": {
    "tags": []
   },
   "outputs": [],
   "source": [
    "model, criterion, postprocessors = build_model_main(args)\n",
    "checkpoint = torch.load(model_checkpoint_path, map_location='cpu')\n",
    "model.load_state_dict(checkpoint['model'])\n",
    "_ = model.eval()"
   ]
  },
  {
   "cell_type": "code",
   "execution_count": 27,
   "id": "c25bd19f-3f00-424f-8704-6ab9d98f0686",
   "metadata": {
    "tags": []
   },
   "outputs": [
    {
     "name": "stdout",
     "output_type": "stream",
     "text": [
      "Complete test data 999\n",
      "Complete test data 1999\n",
      "Complete test data 2999\n",
      "Complete test data 3999\n",
      "Complete test data 4999\n",
      "Complete save results into ./results/deep_ensemble/DINO_0031_5scale.pkl\n"
     ]
    }
   ],
   "source": [
    "output_dic = {'pred_logits', 'pred_boxes'}\n",
    "results = {}\n",
    "with torch.no_grad():\n",
    "    for idx in range(len(dataset_val)):\n",
    "        test_result = {}\n",
    "        output = model.cuda()(dataset_val[idx][0][None].cuda())\n",
    "        for k in output_dic:\n",
    "            test_result[k] = output[k].cpu().numpy()\n",
    "        output = postprocessors['bbox'](output, torch.Tensor([[1.0, 1.0]]).cuda())[0]\n",
    "        boxes = box_ops.box_xyxy_to_cxcywh(output['boxes'])\n",
    "        test_result['scores'] = output['scores'].cpu().numpy()\n",
    "        test_result['labels'] = output['labels'].cpu().numpy()\n",
    "        test_result['boxes'] = boxes.cpu().numpy()\n",
    "        results[idx] = test_result\n",
    "        if (idx+1) % 1000 == 0:\n",
    "            print(f\"Complete test data {idx}\")\n",
    "\n",
    "with open(results_path, \"wb\") as outfile:\n",
    "     pickle.dump(results, outfile)\n",
    "print(f\"Complete save results into {results_path}\")"
   ]
  },
  {
   "cell_type": "code",
   "execution_count": 36,
   "id": "20a1bc28-97d3-4024-907c-0d4f2f369803",
   "metadata": {
    "tags": []
   },
   "outputs": [],
   "source": [
    "import pickle\n",
    "results_path = \"./results/deep_ensemble/\" + \"DINO_\" + checkpoint + \"_\" + scale_config + \".pkl\"\n",
    "with open(results_path, \"wb\") as outfile:\n",
    "     pickle.dump(results, outfile)"
   ]
  },
  {
   "cell_type": "code",
   "execution_count": null,
   "id": "a297d526-ffc4-48a4-bf7c-bef6411581e7",
   "metadata": {},
   "outputs": [],
   "source": []
  },
  {
   "cell_type": "markdown",
   "id": "cf3602b9-31ac-498a-ba49-282f52893c85",
   "metadata": {},
   "source": [
    "## SWIN"
   ]
  },
  {
   "cell_type": "code",
   "execution_count": 30,
   "id": "e9d9c5bc-5e43-4881-877b-89c36d254d2a",
   "metadata": {
    "tags": []
   },
   "outputs": [
    {
     "name": "stdout",
     "output_type": "stream",
     "text": [
      "data_aug_params: {\n",
      "  \"scales\": [\n",
      "    480,\n",
      "    512,\n",
      "    544,\n",
      "    576,\n",
      "    608,\n",
      "    640,\n",
      "    672,\n",
      "    704,\n",
      "    736,\n",
      "    768,\n",
      "    800\n",
      "  ],\n",
      "  \"max_size\": 1333,\n",
      "  \"scales2_resize\": [\n",
      "    400,\n",
      "    500,\n",
      "    600\n",
      "  ],\n",
      "  \"scales2_crop\": [\n",
      "    384,\n",
      "    600\n",
      "  ]\n",
      "}\n",
      "loading annotations into memory...\n",
      "Done (t=0.44s)\n",
      "creating index...\n",
      "index created!\n",
      "use_checkpoint!!!!!!!!!!!!!!!!!!!!!!!!\n",
      "_IncompatibleKeys(missing_keys=['norm1.weight', 'norm1.bias', 'norm2.weight', 'norm2.bias', 'norm3.weight', 'norm3.bias'], unexpected_keys=['norm.weight', 'norm.bias', 'layers.0.blocks.1.attn_mask', 'layers.1.blocks.1.attn_mask', 'layers.2.blocks.1.attn_mask', 'layers.2.blocks.3.attn_mask', 'layers.2.blocks.5.attn_mask', 'layers.2.blocks.7.attn_mask', 'layers.2.blocks.9.attn_mask', 'layers.2.blocks.11.attn_mask', 'layers.2.blocks.13.attn_mask', 'layers.2.blocks.15.attn_mask', 'layers.2.blocks.17.attn_mask'])\n"
     ]
    }
   ],
   "source": [
    "scale_config = \"4scale_swin\"\n",
    "checkpoint = \"0029\"\n",
    "model_config_path = \"config/DINO/DINO_\" + scale_config + \".py\" # change the path of the model config file\n",
    "model_checkpoint_path = \"ckpts/checkpoint\" + checkpoint + \"_\" + scale_config + \".pth\" # change the path of the model checkpoint\n",
    "results_path = \"./results/deep_ensemble/\" + \"DINO_\" + checkpoint + \"_\" + scale_config + \".pkl\"\n",
    "thershold = 0.3 # set a thershold\n",
    "args = SLConfig.fromfile(model_config_path) \n",
    "args.device = 'cuda' \n",
    "args.backbone_dir = \"./\"\n",
    "\n",
    "# load data\n",
    "args.dataset_file = 'coco'\n",
    "args.coco_path = \"../coco/\" # the path of coco\n",
    "args.fix_size = False\n",
    "\n",
    "dataset_val = build_dataset(image_set='val', args=args)\n",
    "\n",
    "# load model\n",
    "model, criterion, postprocessors = build_model_main(args)\n",
    "checkpoint = torch.load(model_checkpoint_path, map_location='cpu')\n",
    "model.load_state_dict(checkpoint['model'])\n",
    "_ = model.eval()"
   ]
  },
  {
   "cell_type": "code",
   "execution_count": 31,
   "id": "12b49f72-7017-4b9a-958d-3dc70591f839",
   "metadata": {
    "tags": []
   },
   "outputs": [
    {
     "name": "stdout",
     "output_type": "stream",
     "text": [
      "Complete test data 999\n",
      "Complete test data 1999\n",
      "Complete test data 2999\n",
      "Complete test data 3999\n",
      "Complete test data 4999\n",
      "Complete save results into ./results/deep_ensemble/DINO_0029_4scale_swin.pkl\n"
     ]
    }
   ],
   "source": [
    "output_dic = {'pred_logits', 'pred_boxes'}\n",
    "results = {}\n",
    "with torch.no_grad():\n",
    "    for idx in range(len(dataset_val)):\n",
    "        test_result = {}\n",
    "        output = model.cuda()(dataset_val[idx][0][None].cuda())\n",
    "        for k in output_dic:\n",
    "            test_result[k] = output[k].cpu().numpy()\n",
    "        output = postprocessors['bbox'](output, torch.Tensor([[1.0, 1.0]]).cuda())[0]\n",
    "        boxes = box_ops.box_xyxy_to_cxcywh(output['boxes'])\n",
    "        test_result['scores'] = output['scores'].cpu().numpy()\n",
    "        test_result['labels'] = output['labels'].cpu().numpy()\n",
    "        test_result['boxes'] = boxes.cpu().numpy()\n",
    "        results[idx] = test_result\n",
    "        if (idx+1) % 1000 == 0:\n",
    "            print(f\"Complete test data {idx}\")\n",
    "\n",
    "with open(results_path, \"wb\") as outfile:\n",
    "     pickle.dump(results, outfile)\n",
    "print(f\"Complete save results into {results_path}\")"
   ]
  },
  {
   "cell_type": "code",
   "execution_count": null,
   "id": "79f438a5-5046-4f5e-9ebb-88965b731972",
   "metadata": {},
   "outputs": [],
   "source": []
  }
 ],
 "metadata": {
  "kernelspec": {
   "display_name": "Python 3 (ipykernel)",
   "language": "python",
   "name": "python3"
  },
  "language_info": {
   "codemirror_mode": {
    "name": "ipython",
    "version": 3
   },
   "file_extension": ".py",
   "mimetype": "text/x-python",
   "name": "python",
   "nbconvert_exporter": "python",
   "pygments_lexer": "ipython3",
   "version": "3.7.16"
  }
 },
 "nbformat": 4,
 "nbformat_minor": 5
}
