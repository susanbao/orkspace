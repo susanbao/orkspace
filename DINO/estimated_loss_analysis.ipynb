{
 "cells": [
  {
   "cell_type": "markdown",
   "id": "6cb9c6cf-bdfd-46a1-8947-7975ef116f0b",
   "metadata": {},
   "source": [
    "# Analysis the results"
   ]
  },
  {
   "cell_type": "code",
   "execution_count": 20,
   "id": "1d33b854-e1bb-4a92-9d4e-91b8d8a2b5bb",
   "metadata": {
    "tags": []
   },
   "outputs": [],
   "source": [
    "import argparse\n",
    "import datetime\n",
    "import json\n",
    "import random\n",
    "import time\n",
    "from pathlib import Path\n",
    "import os, sys\n",
    "import numpy as np\n",
    "\n",
    "import torch\n",
    "from torch.utils.data import DataLoader, DistributedSampler, random_split, TensorDataset\n",
    "from torch import nn\n",
    "import matplotlib.pyplot as plt"
   ]
  },
  {
   "cell_type": "code",
   "execution_count": null,
   "id": "589e76b2-2499-4f4c-87d5-91667ef0338c",
   "metadata": {},
   "outputs": [],
   "source": []
  }
 ],
 "metadata": {
  "kernelspec": {
   "display_name": "Python 3 (ipykernel)",
   "language": "python",
   "name": "python3"
  },
  "language_info": {
   "codemirror_mode": {
    "name": "ipython",
    "version": 3
   },
   "file_extension": ".py",
   "mimetype": "text/x-python",
   "name": "python",
   "nbconvert_exporter": "python",
   "pygments_lexer": "ipython3",
   "version": "3.7.13"
  }
 },
 "nbformat": 4,
 "nbformat_minor": 5
}
