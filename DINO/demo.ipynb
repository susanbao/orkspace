{
 "cells": [
  {
   "cell_type": "code",
   "execution_count": 7,
   "id": "3b8fe3da-f17c-4191-bb30-469480b51341",
   "metadata": {
    "tags": []
   },
   "outputs": [],
   "source": [
    "import json\n",
    "import argparse\n",
    "import datetime\n",
    "import json\n",
    "import random\n",
    "import time\n",
    "from pathlib import Path\n",
    "import os, sys\n",
    "import numpy as np\n",
    "\n",
    "import torch\n",
    "from torch.utils.data import DataLoader, DistributedSampler\n",
    "\n",
    "from util.get_param_dicts import get_param_dict\n",
    "from util.logger import setup_logger\n",
    "from util.slconfig import DictAction, SLConfig\n",
    "from util.utils import ModelEma, BestMetricHolder\n",
    "import util.misc as utils\n",
    "\n",
    "import datasets\n",
    "from datasets import build_dataset, get_coco_api_from_dataset\n",
    "from engine import evaluate, train_one_epoch, test\n",
    "from datasets.mc_sample import MCSampler"
   ]
  },
  {
   "cell_type": "code",
   "execution_count": 2,
   "id": "5170309f-9ccc-4a74-a8ca-9f92717e7121",
   "metadata": {
    "tags": []
   },
   "outputs": [],
   "source": [
    "def get_args_parser():\n",
    "    parser = argparse.ArgumentParser('Set transformer detector', add_help=False)\n",
    "    parser.add_argument('--config_file', '-c', type=str, default='config/DINO/DINO_5scale.py', required=False)\n",
    "\n",
    "    # dataset parameters\n",
    "    parser.add_argument('--modelname', default='dino')\n",
    "    parser.add_argument('--dataset_file', default='coco')\n",
    "    parser.add_argument('--coco_path', type=str, default='../coco/')\n",
    "    parser.add_argument('--coco_panoptic_path', type=str)\n",
    "    parser.add_argument('--remove_difficult', action='store_true')\n",
    "    parser.add_argument('--fix_size', action='store_true')\n",
    "    parser.add_argument('--masks', action='store_true')\n",
    "\n",
    "    # training parameters\n",
    "    parser.add_argument('--output_dir', default='',\n",
    "                        help='path where to save, empty for no saving')\n",
    "    parser.add_argument('--note', default='',\n",
    "                        help='add some notes to the experiment')\n",
    "    parser.add_argument('--device', default='cuda',\n",
    "                        help='device to use for training / testing')\n",
    "    parser.add_argument('--seed', default=42, type=int)\n",
    "    parser.add_argument('--resume', default='', help='resume from checkpoint')\n",
    "    parser.add_argument('--pretrain_model_path', help='load from other checkpoint')\n",
    "    parser.add_argument('--finetune_ignore', type=str, nargs='+')\n",
    "    parser.add_argument('--start_epoch', default=0, type=int, metavar='N',\n",
    "                        help='start epoch')\n",
    "    parser.add_argument('--eval', action='store_true')\n",
    "    parser.add_argument('--num_workers', default=10, type=int)\n",
    "    parser.add_argument('--test', action='store_true')\n",
    "    parser.add_argument('--debug', action='store_true')\n",
    "    parser.add_argument('--find_unused_params', action='store_true')\n",
    "\n",
    "    parser.add_argument('--save_results', action='store_true')\n",
    "    parser.add_argument('--save_log', action='store_true')\n",
    "\n",
    "    # distributed training parameters\n",
    "    parser.add_argument('--world_size', default=1, type=int,\n",
    "                        help='number of distributed processes')\n",
    "    parser.add_argument('--dist_url', default='env://', help='url used to set up distributed training')\n",
    "    parser.add_argument('--rank', default=0, type=int,\n",
    "                        help='number of distributed processes')\n",
    "    \n",
    "    return parser\n",
    "\n",
    "parser = argparse.ArgumentParser('DETR training and evaluation script', parents=[get_args_parser()])\n",
    "args = parser.parse_args([])"
   ]
  },
  {
   "cell_type": "code",
   "execution_count": 3,
   "id": "fc61649d-88db-43d8-b63a-35bab52568df",
   "metadata": {},
   "outputs": [
    {
     "name": "stdout",
     "output_type": "stream",
     "text": [
      "data_aug_params: {\n",
      "  \"scales\": [\n",
      "    480,\n",
      "    512,\n",
      "    544,\n",
      "    576,\n",
      "    608,\n",
      "    640,\n",
      "    672,\n",
      "    704,\n",
      "    736,\n",
      "    768,\n",
      "    800\n",
      "  ],\n",
      "  \"max_size\": 1333,\n",
      "  \"scales2_resize\": [\n",
      "    400,\n",
      "    500,\n",
      "    600\n",
      "  ],\n",
      "  \"scales2_crop\": [\n",
      "    384,\n",
      "    600\n",
      "  ]\n",
      "}\n",
      "loading annotations into memory...\n",
      "Done (t=0.42s)\n",
      "creating index...\n",
      "index created!\n"
     ]
    }
   ],
   "source": [
    "dataset_val = build_dataset(image_set='val', args=args)\n",
    "sampler_val = MCSampler(dataset_val, 100)"
   ]
  },
  {
   "cell_type": "code",
   "execution_count": 4,
   "id": "66ae7c64-c07b-4ccd-894f-bda12b4f9e06",
   "metadata": {
    "tags": []
   },
   "outputs": [],
   "source": [
    "data_loader_val = DataLoader(dataset_val, 1, sampler=sampler_val, drop_last=False, collate_fn=utils.collate_fn, num_workers=args.num_workers)"
   ]
  },
  {
   "cell_type": "code",
   "execution_count": 9,
   "id": "35660bfc-ae6d-4904-a543-5d7973115b4e",
   "metadata": {
    "tags": []
   },
   "outputs": [],
   "source": [
    "dictionary = {3: {\"a\":3}, 1: {\"a\":4}}\n",
    "with open(\"sample.json\", \"w\") as outfile:\n",
    "    json.dump(dictionary, outfile)"
   ]
  },
  {
   "cell_type": "code",
   "execution_count": 10,
   "id": "b7b9ea43-086a-44d0-a540-87238b6f913a",
   "metadata": {
    "tags": []
   },
   "outputs": [
    {
     "name": "stdout",
     "output_type": "stream",
     "text": [
      "{'3': {'a': 3}, '1': {'a': 4}}\n",
      "<class 'dict'>\n"
     ]
    }
   ],
   "source": [
    "with open('sample.json', 'r') as openfile:\n",
    " \n",
    "    # Reading from json file\n",
    "    json_object = json.load(openfile)\n",
    " \n",
    "print(json_object)\n",
    "print(type(json_object))"
   ]
  },
  {
   "cell_type": "code",
   "execution_count": 8,
   "id": "125b4e67-8bf5-4672-8f4e-8ed6cdf4989f",
   "metadata": {
    "tags": []
   },
   "outputs": [
    {
     "data": {
      "text/plain": [
       "array([3787, 7139, 3082, 5583, 5404, 5950, 8868, 6872, 6672, 3136, 5427,\n",
       "       2131, 9432, 6930, 9491, 4187, 8110,  481, 3141, 7746, 3549, 4096,\n",
       "       1767, 2126, 4834, 2409, 9729, 4254, 9513, 7544, 4352, 1513, 8175,\n",
       "       2811, 2804, 4470, 2389, 4837, 5658,  907, 2484, 2403, 5460, 9269,\n",
       "       4132, 4111, 9473, 5592, 7820,  803, 4586, 6444, 6787, 1748,  173,\n",
       "       1124, 8080, 5474, 2869, 5744, 5410, 5907, 7729, 6235, 6274, 1314,\n",
       "       9561, 1343, 3234,  374, 9414, 6446, 2103, 3120,    0,  733, 3938,\n",
       "       4215, 2467, 6064, 5355, 4593, 6251, 5541, 5512, 4428,  990, 1723,\n",
       "       8246, 2992])"
      ]
     },
     "execution_count": 8,
     "metadata": {},
     "output_type": "execute_result"
    }
   ],
   "source": [
    "np.random.randint(0, high=10000, size=90)"
   ]
  },
  {
   "cell_type": "markdown",
   "id": "e6c00bdd-a3c2-43ee-9e39-cd3122ec827c",
   "metadata": {},
   "source": [
    "# cifar10"
   ]
  },
  {
   "cell_type": "code",
   "execution_count": 20,
   "id": "da0d99e3-7109-4de7-9ad1-b0f21c71a590",
   "metadata": {
    "tags": []
   },
   "outputs": [
    {
     "name": "stderr",
     "output_type": "stream",
     "text": [
      "2023-05-18 20:48:04.944146: I tensorflow/core/platform/cpu_feature_guard.cc:193] This TensorFlow binary is optimized with oneAPI Deep Neural Network Library (oneDNN) to use the following CPU instructions in performance-critical operations:  AVX2 AVX512F AVX512_VNNI FMA\n",
      "To enable them in other operations, rebuild TensorFlow with the appropriate compiler flags.\n",
      "2023-05-18 20:48:05.090638: I tensorflow/core/util/port.cc:104] oneDNN custom operations are on. You may see slightly different numerical results due to floating-point round-off errors from different computation orders. To turn them off, set the environment variable `TF_ENABLE_ONEDNN_OPTS=0`.\n",
      "2023-05-18 20:48:05.757842: W tensorflow/compiler/xla/stream_executor/platform/default/dso_loader.cc:64] Could not load dynamic library 'libnvinfer.so.7'; dlerror: libnvinfer.so.7: cannot open shared object file: No such file or directory; LD_LIBRARY_PATH: /usr/local/nvidia/lib:/usr/local/nvidia/lib64\n",
      "2023-05-18 20:48:05.757924: W tensorflow/compiler/xla/stream_executor/platform/default/dso_loader.cc:64] Could not load dynamic library 'libnvinfer_plugin.so.7'; dlerror: libnvinfer_plugin.so.7: cannot open shared object file: No such file or directory; LD_LIBRARY_PATH: /usr/local/nvidia/lib:/usr/local/nvidia/lib64\n",
      "2023-05-18 20:48:05.757930: W tensorflow/compiler/tf2tensorrt/utils/py_utils.cc:38] TF-TRT Warning: Cannot dlopen some TensorRT libraries. If you would like to use Nvidia GPU with TensorRT, please make sure the missing libraries mentioned above are installed properly.\n"
     ]
    }
   ],
   "source": [
    "from tensorflow.keras import datasets\n",
    "data = datasets.cifar10.load_data()"
   ]
  },
  {
   "cell_type": "code",
   "execution_count": 22,
   "id": "53976277-1367-447b-b896-a0b8cac04711",
   "metadata": {
    "tags": []
   },
   "outputs": [],
   "source": [
    "(x_train, y_train), (x_test, y_test) = data"
   ]
  },
  {
   "cell_type": "code",
   "execution_count": 23,
   "id": "16592d23-2a5e-4755-b231-6545b6ea785a",
   "metadata": {
    "tags": []
   },
   "outputs": [
    {
     "data": {
      "text/plain": [
       "50000"
      ]
     },
     "execution_count": 23,
     "metadata": {},
     "output_type": "execute_result"
    }
   ],
   "source": [
    "len(x_train)"
   ]
  },
  {
   "cell_type": "code",
   "execution_count": 24,
   "id": "e4bfb730-c9fc-43da-ab06-69cb63d45d6d",
   "metadata": {
    "tags": []
   },
   "outputs": [
    {
     "data": {
      "text/plain": [
       "(10000, 10000)"
      ]
     },
     "execution_count": 24,
     "metadata": {},
     "output_type": "execute_result"
    }
   ],
   "source": [
    "len(x_test), len(y_test)"
   ]
  },
  {
   "cell_type": "code",
   "execution_count": 29,
   "id": "1201d976-8067-4e3f-9c64-ea48089f9d1e",
   "metadata": {
    "tags": []
   },
   "outputs": [
    {
     "data": {
      "text/plain": [
       "tensor([38, 26, 16, 63, 86,  9, 96, 99,  3, 90, 43, 65, 18, 72, 23, 91, 12, 22,\n",
       "        88, 34, 82, 78, 50,  6, 77, 14, 44, 15, 32, 97, 98, 36, 68, 92, 69, 41,\n",
       "        57, 11,  5, 62,  2, 13, 20, 67, 56, 81, 71, 55, 30, 76, 61, 89, 10, 84,\n",
       "        94, 49, 42,  8, 24, 79, 74, 85, 75, 45, 80, 46, 58, 27, 53, 70, 35, 25,\n",
       "        31, 64, 48, 28, 51, 52, 73,  0, 33, 47, 37, 17, 21, 93, 87,  7, 60, 40,\n",
       "         1, 59, 95, 54, 39, 29, 66,  4, 83, 19])"
      ]
     },
     "execution_count": 29,
     "metadata": {},
     "output_type": "execute_result"
    }
   ],
   "source": [
    "a = torch.randperm(100)\n",
    "a"
   ]
  },
  {
   "cell_type": "code",
   "execution_count": 30,
   "id": "67fcc137-5c37-4ed6-ac42-2a132a31e280",
   "metadata": {
    "tags": []
   },
   "outputs": [],
   "source": [
    "b = a[:50]"
   ]
  },
  {
   "cell_type": "code",
   "execution_count": 31,
   "id": "aa5d7f11-b732-49d2-84cb-2ebce269c2e7",
   "metadata": {
    "tags": []
   },
   "outputs": [
    {
     "data": {
      "text/plain": [
       "tensor([38, 26, 16, 63, 86,  9, 96, 99,  3, 90, 43, 65, 18, 72, 23, 91, 12, 22,\n",
       "        88, 34, 82, 78, 50,  6, 77, 14, 44, 15, 32, 97, 98, 36, 68, 92, 69, 41,\n",
       "        57, 11,  5, 62,  2, 13, 20, 67, 56, 81, 71, 55, 30, 76])"
      ]
     },
     "execution_count": 31,
     "metadata": {},
     "output_type": "execute_result"
    }
   ],
   "source": [
    "b"
   ]
  },
  {
   "cell_type": "code",
   "execution_count": 32,
   "id": "dd4afa0c-2888-4376-8818-a80dd20e02c4",
   "metadata": {
    "tags": []
   },
   "outputs": [
    {
     "data": {
      "text/plain": [
       "<tuple_iterator at 0x7f7f45a1ab90>"
      ]
     },
     "execution_count": 32,
     "metadata": {},
     "output_type": "execute_result"
    }
   ],
   "source": [
    "iter(b)"
   ]
  },
  {
   "cell_type": "code",
   "execution_count": null,
   "id": "cd4a4e39-a834-43d3-bed5-d97cd61a12f5",
   "metadata": {},
   "outputs": [],
   "source": []
  }
 ],
 "metadata": {
  "kernelspec": {
   "display_name": "Python 3 (ipykernel)",
   "language": "python",
   "name": "python3"
  },
  "language_info": {
   "codemirror_mode": {
    "name": "ipython",
    "version": 3
   },
   "file_extension": ".py",
   "mimetype": "text/x-python",
   "name": "python",
   "nbconvert_exporter": "python",
   "pygments_lexer": "ipython3",
   "version": "3.7.13"
  }
 },
 "nbformat": 4,
 "nbformat_minor": 5
}
