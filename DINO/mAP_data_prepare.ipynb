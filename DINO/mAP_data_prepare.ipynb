{
 "cells": [
  {
   "cell_type": "markdown",
   "id": "6cb9c6cf-bdfd-46a1-8947-7975ef116f0b",
   "metadata": {},
   "source": [
    "# Generate Ground truth mAP value"
   ]
  },
  {
   "cell_type": "code",
   "execution_count": 20,
   "id": "1d33b854-e1bb-4a92-9d4e-91b8d8a2b5bb",
   "metadata": {
    "tags": []
   },
   "outputs": [],
   "source": [
    "import argparse\n",
    "import datetime\n",
    "import json\n",
    "import random\n",
    "import time\n",
    "from pathlib import Path\n",
    "import os, sys\n",
    "import numpy as np\n",
    "\n",
    "import torch\n",
    "from torch.utils.data import DataLoader, DistributedSampler, random_split, TensorDataset\n",
    "from torch import nn"
   ]
  },
  {
   "cell_type": "code",
   "execution_count": 21,
   "id": "c03e86ac-c290-414d-821e-7981e60942ab",
   "metadata": {},
   "outputs": [],
   "source": [
    "path = \"./data/5_scale_31/val/mAP/results_10.json\"\n",
    "with open(path, \"r\") as outfile:\n",
    "    data = json.load(outfile)"
   ]
  },
  {
   "cell_type": "code",
   "execution_count": 22,
   "id": "f057b8e9-3cbc-478f-b6cf-2e62ddd06916",
   "metadata": {
    "tags": []
   },
   "outputs": [],
   "source": [
    "def generate_gt_values(metric = 'mAP'):\n",
    "    data_length = len(data)\n",
    "    results = []\n",
    "    for i in range(data_length):\n",
    "        results.append(data[str(i)][metric])\n",
    "    return results"
   ]
  },
  {
   "cell_type": "code",
   "execution_count": 23,
   "id": "66724677-fc15-4949-af00-75add7a2a168",
   "metadata": {
    "tags": []
   },
   "outputs": [],
   "source": [
    "mAPs = generate_gt_values()\n",
    "mAPs = np.array(mAPs)"
   ]
  },
  {
   "cell_type": "code",
   "execution_count": 25,
   "id": "89b481fa-0bb7-4942-a661-c774a4f9700b",
   "metadata": {
    "tags": []
   },
   "outputs": [
    {
     "data": {
      "text/plain": [
       "0.6396231939435222"
      ]
     },
     "execution_count": 25,
     "metadata": {},
     "output_type": "execute_result"
    }
   ],
   "source": [
    "mAPs.mean()"
   ]
  },
  {
   "cell_type": "code",
   "execution_count": null,
   "id": "589e76b2-2499-4f4c-87d5-91667ef0338c",
   "metadata": {},
   "outputs": [],
   "source": []
  }
 ],
 "metadata": {
  "kernelspec": {
   "display_name": "Python 3 (ipykernel)",
   "language": "python",
   "name": "python3"
  },
  "language_info": {
   "codemirror_mode": {
    "name": "ipython",
    "version": 3
   },
   "file_extension": ".py",
   "mimetype": "text/x-python",
   "name": "python",
   "nbconvert_exporter": "python",
   "pygments_lexer": "ipython3",
   "version": "3.7.13"
  }
 },
 "nbformat": 4,
 "nbformat_minor": 5
}
