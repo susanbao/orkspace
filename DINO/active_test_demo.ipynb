{
 "cells": [
  {
   "cell_type": "markdown",
   "id": "0a43f0d0-2e5a-4965-8102-b3223c9aecbe",
   "metadata": {},
   "source": [
    "# Demo on active testing from paper\n",
    "Active Testing: Sample–Efficient Model Evaluation\n",
    "\n",
    "Active Surrogate Estimators: An Active Learning Approach to Label–Efficient Model Evaluation"
   ]
  },
  {
   "cell_type": "code",
   "execution_count": 1,
   "id": "61163ae3-dd93-4034-9114-e4ae9c61551d",
   "metadata": {
    "tags": []
   },
   "outputs": [],
   "source": [
    "import os, sys\n",
    "import torch, json\n",
    "import numpy as np\n",
    "\n",
    "from main import build_model_main\n",
    "from util.slconfig import SLConfig\n",
    "from datasets import build_dataset\n",
    "from util.visualizer import COCOVisualizer\n",
    "from util import box_ops\n",
    "import pickle"
   ]
  },
  {
   "cell_type": "code",
   "execution_count": 2,
   "id": "91a39da7-eafe-4d24-a4d4-0a4e8a747d00",
   "metadata": {
    "tags": []
   },
   "outputs": [],
   "source": [
    "result_path = \"./results/deep_ensemble/\"\n",
    "consider_model_results = {\"DINO_0011_4scale.pkl\", \"DINO_0011_5scale.pkl\", \"DINO_0023_4scale.pkl\", \"DINO_0022_5scale.pkl\", \"DINO_0033_4scale.pkl\", \"DINO_0031_5scale.pkl\"}\n",
    "main_model_index = 5"
   ]
  },
  {
   "cell_type": "markdown",
   "id": "3188a666-78f5-478b-bbb7-60e7d90b71bb",
   "metadata": {},
   "source": [
    "## Load model results"
   ]
  },
  {
   "cell_type": "code",
   "execution_count": 3,
   "id": "1e0d6f44-4e60-4672-9003-1e5619362cde",
   "metadata": {
    "tags": []
   },
   "outputs": [],
   "source": [
    "deep_ensemble_results = []\n",
    "for path in consider_model_results:\n",
    "    temp_path = result_path + path\n",
    "    with open(temp_path, \"rb\") as outfile:\n",
    "         deep_ensemble_results.append(pickle.load(outfile))"
   ]
  },
  {
   "cell_type": "markdown",
   "id": "5f347456-ff77-4ab6-a3e9-fb5d41e34479",
   "metadata": {},
   "source": [
    "## Load data set"
   ]
  },
  {
   "cell_type": "code",
   "execution_count": 4,
   "id": "d6f19a00-acb5-4aff-8f66-3f32f13df41f",
   "metadata": {
    "tags": []
   },
   "outputs": [
    {
     "name": "stdout",
     "output_type": "stream",
     "text": [
      "data_aug_params: {\n",
      "  \"scales\": [\n",
      "    480,\n",
      "    512,\n",
      "    544,\n",
      "    576,\n",
      "    608,\n",
      "    640,\n",
      "    672,\n",
      "    704,\n",
      "    736,\n",
      "    768,\n",
      "    800\n",
      "  ],\n",
      "  \"max_size\": 1333,\n",
      "  \"scales2_resize\": [\n",
      "    400,\n",
      "    500,\n",
      "    600\n",
      "  ],\n",
      "  \"scales2_crop\": [\n",
      "    384,\n",
      "    600\n",
      "  ]\n",
      "}\n",
      "loading annotations into memory...\n",
      "Done (t=0.50s)\n",
      "creating index...\n",
      "index created!\n"
     ]
    }
   ],
   "source": [
    "scale_config = \"5scale\"\n",
    "model_config_path = \"config/DINO/DINO_\" + scale_config + \".py\" # change the path of the model config file\n",
    "args = SLConfig.fromfile(model_config_path) \n",
    "args.device = 'cuda' \n",
    "args.dataset_file = 'coco'\n",
    "args.coco_path = \"../coco/\" # the path of coco\n",
    "args.fix_size = False\n",
    "dataset_val = build_dataset(image_set='val', args=args)"
   ]
  },
  {
   "cell_type": "markdown",
   "id": "a4fa5c9a-af72-4ca4-b834-9523460dbdae",
   "metadata": {},
   "source": [
    "## Compute Acquisition Function"
   ]
  },
  {
   "cell_type": "code",
   "execution_count": null,
   "id": "0966ab81-82b6-4012-a976-4fa7e806ef9b",
   "metadata": {},
   "outputs": [],
   "source": [
    "# ICML Active testing"
   ]
  },
  {
   "cell_type": "code",
   "execution_count": 5,
   "id": "a82f6513-146f-4b51-b84e-94c1e0fc1023",
   "metadata": {
    "tags": []
   },
   "outputs": [
    {
     "data": {
      "text/plain": [
       "(1, 900, 91)"
      ]
     },
     "execution_count": 5,
     "metadata": {},
     "output_type": "execute_result"
    }
   ],
   "source": [
    "deep_ensemble_results[0][0]['pred_logits'].shape"
   ]
  },
  {
   "cell_type": "code",
   "execution_count": 9,
   "id": "2f8537ba-d61f-42c9-b120-99e3d6b7975e",
   "metadata": {
    "tags": []
   },
   "outputs": [
    {
     "data": {
      "text/plain": [
       "(1, 900, 4)"
      ]
     },
     "execution_count": 9,
     "metadata": {},
     "output_type": "execute_result"
    }
   ],
   "source": [
    "deep_ensemble_results[0][0]['pred_boxes'].shape"
   ]
  },
  {
   "cell_type": "code",
   "execution_count": 7,
   "id": "24a891c1-7cdd-4472-9112-fe4ab18b9820",
   "metadata": {
    "tags": []
   },
   "outputs": [
    {
     "data": {
      "text/plain": [
       "dict_keys(['pred_boxes', 'pred_logits', 'scores', 'labels', 'boxes'])"
      ]
     },
     "execution_count": 7,
     "metadata": {},
     "output_type": "execute_result"
    }
   ],
   "source": [
    "deep_ensemble_results[4][0].keys()"
   ]
  },
  {
   "cell_type": "code",
   "execution_count": null,
   "id": "39d4ad4a-249f-4296-b05d-5d3d01b026c1",
   "metadata": {},
   "outputs": [],
   "source": []
  }
 ],
 "metadata": {
  "kernelspec": {
   "display_name": "Python 3 (ipykernel)",
   "language": "python",
   "name": "python3"
  },
  "language_info": {
   "codemirror_mode": {
    "name": "ipython",
    "version": 3
   },
   "file_extension": ".py",
   "mimetype": "text/x-python",
   "name": "python",
   "nbconvert_exporter": "python",
   "pygments_lexer": "ipython3",
   "version": "3.7.13"
  }
 },
 "nbformat": 4,
 "nbformat_minor": 5
}
