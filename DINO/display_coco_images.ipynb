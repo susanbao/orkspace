{
 "cells": [
  {
   "cell_type": "code",
   "execution_count": 1,
   "id": "251e943f-aa28-45c3-a98c-425b86e5761b",
   "metadata": {
    "tags": []
   },
   "outputs": [],
   "source": [
    "import os, sys\n",
    "import torch, json\n",
    "import numpy as np\n",
    "\n",
    "from main import build_model_main\n",
    "from util.slconfig import SLConfig\n",
    "from datasets import build_dataset\n",
    "from util.visualizer import COCOVisualizer\n",
    "from util import box_ops\n",
    "import pickle\n",
    "import copy\n",
    "import random\n",
    "from util.utils import slprint, to_device\n",
    "import util.misc as utils\n",
    "from engine import evaluate\n",
    "from torch.utils.data import DataLoader\n",
    "from datasets import build_dataset, get_coco_api_from_dataset\n"
   ]
  },
  {
   "cell_type": "markdown",
   "id": "263a203b-7e56-4214-93d9-328d4b449806",
   "metadata": {},
   "source": [
    "## dataset and prediction"
   ]
  },
  {
   "cell_type": "code",
   "execution_count": 2,
   "id": "9a6ae1eb-3457-4bbf-8669-811fdcd9fc78",
   "metadata": {
    "tags": []
   },
   "outputs": [
    {
     "name": "stdout",
     "output_type": "stream",
     "text": [
      "data_aug_params: {\n",
      "  \"scales\": [\n",
      "    480,\n",
      "    512,\n",
      "    544,\n",
      "    576,\n",
      "    608,\n",
      "    640,\n",
      "    672,\n",
      "    704,\n",
      "    736,\n",
      "    768,\n",
      "    800\n",
      "  ],\n",
      "  \"max_size\": 1333,\n",
      "  \"scales2_resize\": [\n",
      "    400,\n",
      "    500,\n",
      "    600\n",
      "  ],\n",
      "  \"scales2_crop\": [\n",
      "    384,\n",
      "    600\n",
      "  ]\n",
      "}\n",
      "loading annotations into memory...\n",
      "Done (t=0.45s)\n",
      "creating index...\n",
      "index created!\n"
     ]
    }
   ],
   "source": [
    "scale_config = \"5scale\"\n",
    "model_config_path = \"config/DINO/DINO_\" + scale_config + \".py\" # change the path of the model config file\n",
    "args = SLConfig.fromfile(model_config_path) \n",
    "args.device = 'cuda' \n",
    "args.dataset_file = 'coco'\n",
    "args.coco_path = \"../coco/\" # the path of coco\n",
    "args.fix_size = False\n",
    "dataset_val = build_dataset(image_set='val', args=args)"
   ]
  },
  {
   "cell_type": "code",
   "execution_count": 3,
   "id": "5b57b7ad-ce96-40c8-8da8-7c90e7050331",
   "metadata": {
    "tags": []
   },
   "outputs": [
    {
     "data": {
      "text/plain": [
       "dict_keys(['boxes', 'labels', 'image_id', 'area', 'iscrowd', 'orig_size', 'size'])"
      ]
     },
     "execution_count": 3,
     "metadata": {},
     "output_type": "execute_result"
    }
   ],
   "source": [
    "dataset_val[1000][1].keys()"
   ]
  },
  {
   "cell_type": "code",
   "execution_count": 4,
   "id": "995fa0b0-f289-4355-892e-16c2af55a145",
   "metadata": {
    "tags": []
   },
   "outputs": [],
   "source": [
    "# result_path = \"./results/deep_ensemble/DINO_0031_5scale.pkl\"\n",
    "# with open(result_path, \"rb\") as outfile:\n",
    "#     predictions = pickle.load(outfile)"
   ]
  },
  {
   "cell_type": "code",
   "execution_count": 5,
   "id": "c95d9594-974e-4816-bedd-07ca6b829da4",
   "metadata": {
    "tags": []
   },
   "outputs": [],
   "source": [
    "result_path = \"./results/deep_ensemble/\"\n",
    "consider_model_results = {\"DINO_0011_4scale.pkl\", \"DINO_0011_5scale.pkl\", \"DINO_0023_4scale.pkl\", \"DINO_0022_5scale.pkl\", \"DINO_0033_4scale.pkl\", \"DINO_0031_5scale.pkl\"}\n",
    "ego_model_index = 5\n",
    "deep_ensemble_results = []\n",
    "for path in consider_model_results:\n",
    "    temp_path = result_path + path\n",
    "    with open(temp_path, \"rb\") as outfile:\n",
    "         deep_ensemble_results.append(pickle.load(outfile))"
   ]
  },
  {
   "cell_type": "markdown",
   "id": "9bc5a34c-b82d-48e6-b37b-0b4ac0dbef07",
   "metadata": {},
   "source": [
    "## display"
   ]
  },
  {
   "cell_type": "code",
   "execution_count": 6,
   "id": "3eafaacb-0e9a-4192-8fac-7c491dd887bf",
   "metadata": {
    "tags": []
   },
   "outputs": [],
   "source": [
    "from collections import defaultdict\n",
    "import json\n",
    "import numpy as np\n",
    "class COCOParser:\n",
    "    def __init__(self, anns_file, imgs_dir):\n",
    "        with open(anns_file, 'r') as f:\n",
    "            coco = json.load(f)\n",
    "            \n",
    "        self.annIm_dict = defaultdict(list)        \n",
    "        self.cat_dict = {} \n",
    "        self.annId_dict = {}\n",
    "        self.im_dict = {}\n",
    "        self.licenses_dict = {}\n",
    "        for ann in coco['annotations']:           \n",
    "            self.annIm_dict[ann['image_id']].append(ann) \n",
    "            self.annId_dict[ann['id']]=ann\n",
    "        for img in coco['images']:\n",
    "            self.im_dict[img['id']] = img\n",
    "        for cat in coco['categories']:\n",
    "            self.cat_dict[cat['id']] = cat\n",
    "        for license in coco['licenses']:\n",
    "            self.licenses_dict[license['id']] = license\n",
    "    def get_imgIds(self):\n",
    "        return list(self.im_dict.keys())\n",
    "    def get_annIds(self, im_ids):\n",
    "        im_ids=im_ids if isinstance(im_ids, list) else [im_ids]\n",
    "        return [ann['id'] for im_id in im_ids for ann in self.annIm_dict[im_id]]\n",
    "    def load_anns(self, ann_ids):\n",
    "        im_ids=ann_ids if isinstance(ann_ids, list) else [ann_ids]\n",
    "        return [self.annId_dict[ann_id] for ann_id in ann_ids]        \n",
    "    def load_cats(self, class_ids):\n",
    "        class_ids=class_ids if isinstance(class_ids, list) else [class_ids]\n",
    "        return [self.cat_dict[class_id] for class_id in class_ids]\n",
    "    def get_imgLicenses(self,im_ids):\n",
    "        im_ids=im_ids if isinstance(im_ids, list) else [im_ids]\n",
    "        lic_ids = [self.im_dict[im_id][\"license\"] for im_id in im_ids]\n",
    "        return [self.licenses_dict[lic_id] for lic_id in lic_ids]"
   ]
  },
  {
   "cell_type": "code",
   "execution_count": 7,
   "id": "d507d7a5-bb9a-4bc3-9f87-b6814b23bee2",
   "metadata": {
    "tags": []
   },
   "outputs": [],
   "source": [
    "coco_annotations_file=\"../coco/annotations/instances_val2017.json\"\n",
    "coco_images_dir=\"../coco/val2017\"\n",
    "coco= COCOParser(coco_annotations_file, coco_images_dir)"
   ]
  },
  {
   "cell_type": "code",
   "execution_count": 8,
   "id": "4b2a8287-0c97-49f4-b52f-749adbab584e",
   "metadata": {
    "tags": []
   },
   "outputs": [],
   "source": [
    "import matplotlib.pyplot as plt\n",
    "from PIL import Image\n",
    "import numpy as np\n",
    "# define a list of colors for drawing bounding boxes\n",
    "color_list = [\"pink\", \"black\", \"blue\", \"orange\", \"yellow\", \"magenta\",\"aqua\"]\n",
    "score_threshold = 0\n",
    "# len(selected_img_ids) should be even.\n",
    "def display_coco_image(selected_img_ids, dataset_ids):\n",
    "    # num_imgs_to_disp = 4\n",
    "    # total_images = len(coco.get_imgIds()) # total number of images\n",
    "    # sel_im_idxs = np.random.permutation(total_images)[:num_imgs_to_disp]\n",
    "    # img_ids = coco.get_imgIds()\n",
    "    # selected_img_ids = [img_ids[i] for i in sel_im_idxs]\n",
    "    ann_ids = coco.get_annIds(selected_img_ids)\n",
    "    im_licenses = coco.get_imgLicenses(selected_img_ids)\n",
    "    fig, ax = plt.subplots(nrows=len(selected_img_ids)//2, ncols=2, figsize=(15,10))\n",
    "    ax = ax.ravel()\n",
    "    for i, im in enumerate(selected_img_ids):\n",
    "        image = Image.open(f\"{coco_images_dir}/{str(im).zfill(12)}.jpg\")\n",
    "        ann_ids = coco.get_annIds(im)\n",
    "        annotations = coco.load_anns(ann_ids)\n",
    "        for ann in annotations:\n",
    "            bbox = ann['bbox']\n",
    "            x, y, w, h = [int(b) for b in bbox]\n",
    "            class_id = ann[\"category_id\"]\n",
    "            class_name = coco.load_cats(class_id)[0][\"name\"]\n",
    "            license = coco.get_imgLicenses(im)[0][\"name\"]\n",
    "            color_ = \"red\"\n",
    "            rect = plt.Rectangle((x, y), w, h, linewidth=2, edgecolor=color_, facecolor='none')\n",
    "            t_box=ax[i].text(x, y, class_name,  color=color_, fontsize=10)\n",
    "            t_box.set_bbox(dict(boxstyle='square, pad=0',facecolor='white', alpha=0.6, edgecolor='blue'))\n",
    "            ax[i].add_patch(rect)\n",
    "        \n",
    "        id = dataset_ids[i]\n",
    "        pred_logits = deep_ensemble_results[ego_model_index][id]['pred_logits']\n",
    "        pred_boxes = deep_ensemble_results[ego_model_index][id]['pred_boxes']\n",
    "        select_mask = pred_logits > score_threshold\n",
    "        select_idx_all = np.reshape(select_mask, -1).nonzero()[0]\n",
    "        select_idx = select_idx_all // pred_logits.shape[2]\n",
    "        lables = select_idx_all % pred_logits.shape[2]\n",
    "        pred_boxes = np.squeeze(pred_boxes[:, select_idx], axis=0)\n",
    "        lx = dataset_val[id][1]['orig_size'].tolist()\n",
    "        lx = np.array([lx[1], lx[0], lx[1], lx[0]])\n",
    "        pred_boxes = pred_boxes * lx\n",
    "        if len(pred_boxes.shape) > 1:\n",
    "            pred_boxes[:,:2] = pred_boxes[:,:2] - (pred_boxes[:,2:] / 2)\n",
    "        for object_id in range(lables.shape[0]):\n",
    "            x, y, w, h = [int(b) for b in pred_boxes[object_id]]\n",
    "            class_name = coco.load_cats(lables[object_id])[0][\"name\"]\n",
    "            color_ = \"green\"\n",
    "            rect = plt.Rectangle((x, y), w, h, linewidth=2, edgecolor=color_, facecolor='none')\n",
    "            t_box=ax[i].text(x+w/2, y, class_name,  color=color_, fontsize=10)\n",
    "            t_box.set_bbox(dict(boxstyle='square, pad=0',facecolor='white', alpha=0.6, edgecolor='blue'))\n",
    "            ax[i].add_patch(rect)\n",
    "        \n",
    "        for model_idx in range(len(deep_ensemble_results)):\n",
    "            if model_idx == ego_model_index:\n",
    "                continue\n",
    "            pred_logits = deep_ensemble_results[model_idx][id]['pred_logits']\n",
    "            pred_boxes = deep_ensemble_results[model_idx][id]['pred_boxes']\n",
    "            select_mask = pred_logits > score_threshold\n",
    "            select_idx_all = np.reshape(select_mask, -1).nonzero()[0]\n",
    "            select_idx = select_idx_all // pred_logits.shape[2]\n",
    "            lables = select_idx_all % pred_logits.shape[2]\n",
    "            pred_boxes = np.squeeze(pred_boxes[:, select_idx], axis=0)\n",
    "            lx = dataset_val[id][1]['orig_size'].tolist()\n",
    "            lx = np.array([lx[1], lx[0], lx[1], lx[0]])\n",
    "            pred_boxes = pred_boxes * lx\n",
    "            if len(pred_boxes.shape) > 1:\n",
    "                pred_boxes[:,:2] = pred_boxes[:,:2] - (pred_boxes[:,2:] / 2)\n",
    "            for object_id in range(lables.shape[0]):\n",
    "                x, y, w, h = [int(b) for b in pred_boxes[object_id]]\n",
    "                class_name = coco.load_cats(lables[object_id])[0][\"name\"]\n",
    "                color_ = color_list[model_idx]\n",
    "                rect = plt.Rectangle((x, y), w, h, linewidth=2, edgecolor=color_, facecolor='none')\n",
    "                t_box=ax[i].text(x, y, class_name,  color=color_, fontsize=10)\n",
    "                t_box.set_bbox(dict(boxstyle='square, pad=0',facecolor='white', alpha=0.6, edgecolor='blue'))\n",
    "                ax[i].add_patch(rect)\n",
    "        \n",
    "        ax[i].axis('off')\n",
    "        ax[i].imshow(image)\n",
    "        ax[i].set_xlabel('Longitude')\n",
    "        ax[i].set_title(str(im))\n",
    "    plt.tight_layout()\n",
    "    plt.show()\n",
    "    \n",
    "def find_image_ids(dataset_ids):\n",
    "    selected_img_ids = [int(dataset_val[i][1]['image_id']) for i in dataset_ids]\n",
    "    return selected_img_ids\n",
    "\n",
    "def display_with_dataset_ids(dataset_ids):\n",
    "    selected_img_ids = find_image_ids(dataset_ids)\n",
    "    print(selected_img_ids)\n",
    "    display_coco_image(selected_img_ids, dataset_ids)"
   ]
  },
  {
   "cell_type": "code",
   "execution_count": null,
   "id": "305b4314-eb5f-412e-a101-f0fc2b96bf3a",
   "metadata": {
    "tags": []
   },
   "outputs": [
    {
     "name": "stdout",
     "output_type": "stream",
     "text": [
      "[180296, 179392]\n"
     ]
    }
   ],
   "source": [
    "# Top 10 largest q\n",
    "# dataset_ids = [1563, 1553, 4508,  402, 4506, 4502, 4500,  409, 3079, 3627]\n",
    "dataset_ids = [1563, 1553]\n",
    "display_with_dataset_ids(dataset_ids)"
   ]
  },
  {
   "cell_type": "code",
   "execution_count": null,
   "id": "03f008dc-26d9-4fb2-9109-93c0c5dfe36c",
   "metadata": {
    "tags": []
   },
   "outputs": [],
   "source": [
    "display_with_dataset_ids([4508,  402])"
   ]
  },
  {
   "cell_type": "code",
   "execution_count": null,
   "id": "c02a6869-db1c-467c-b38c-4ebcf7c37b22",
   "metadata": {
    "tags": []
   },
   "outputs": [],
   "source": [
    "display_with_dataset_ids([4506, 4502])"
   ]
  },
  {
   "cell_type": "code",
   "execution_count": null,
   "id": "4d60b910-9e66-4139-adb7-cb293530acab",
   "metadata": {
    "tags": []
   },
   "outputs": [],
   "source": [
    "display_with_dataset_ids([4500,  409])"
   ]
  },
  {
   "cell_type": "code",
   "execution_count": null,
   "id": "3db787bd-c7f3-4558-991d-862cac1d2db4",
   "metadata": {
    "tags": []
   },
   "outputs": [],
   "source": [
    "display_with_dataset_ids([3079, 3627])"
   ]
  },
  {
   "cell_type": "code",
   "execution_count": null,
   "id": "7c086c3f-32a4-47f8-b270-2d654f023ba7",
   "metadata": {
    "tags": []
   },
   "outputs": [],
   "source": [
    "# Top 10 smallest q\n",
    "# dataset_ids = [4652,  540, 1766, 2447,  163, 3879, 4068, 3786, 2434,  414]\n",
    "display_with_dataset_ids([4652,  540])"
   ]
  },
  {
   "cell_type": "code",
   "execution_count": null,
   "id": "bc6d92c9-ca4e-4bd2-854d-fa74b9be965a",
   "metadata": {
    "tags": []
   },
   "outputs": [],
   "source": [
    "display_with_dataset_ids([1766, 2447])"
   ]
  },
  {
   "cell_type": "code",
   "execution_count": null,
   "id": "5bc7b1bc-1bbe-4a00-bc79-29d69f618b42",
   "metadata": {
    "tags": []
   },
   "outputs": [],
   "source": [
    "display_with_dataset_ids([163, 3879])"
   ]
  },
  {
   "cell_type": "code",
   "execution_count": null,
   "id": "9b1ffabf-c041-43a5-9f6a-fc935c08db31",
   "metadata": {
    "tags": []
   },
   "outputs": [],
   "source": [
    "# dataset_ids = [4652,  540, 1766, 2447,  163, 3879, 4068, 3786, 2434,  414]\n",
    "display_with_dataset_ids([4068, 3786])"
   ]
  },
  {
   "cell_type": "code",
   "execution_count": null,
   "id": "f8acfa4d-02ac-4eea-be0a-fe48a6f8c8b0",
   "metadata": {
    "tags": []
   },
   "outputs": [],
   "source": [
    "# dataset_ids = [4652,  540, 1766, 2447,  163, 3879, 4068, 3786, 2434,  414]\n",
    "display_with_dataset_ids([2434,  414])"
   ]
  },
  {
   "cell_type": "code",
   "execution_count": null,
   "id": "6dddea57-cf37-4450-9cdb-a1d0aaa865e1",
   "metadata": {},
   "outputs": [],
   "source": []
  }
 ],
 "metadata": {
  "kernelspec": {
   "display_name": "Python 3 (ipykernel)",
   "language": "python",
   "name": "python3"
  },
  "language_info": {
   "codemirror_mode": {
    "name": "ipython",
    "version": 3
   },
   "file_extension": ".py",
   "mimetype": "text/x-python",
   "name": "python",
   "nbconvert_exporter": "python",
   "pygments_lexer": "ipython3",
   "version": "3.7.13"
  }
 },
 "nbformat": 4,
 "nbformat_minor": 5
}
